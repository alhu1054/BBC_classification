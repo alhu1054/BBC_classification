{
 "cells": [
  {
   "cell_type": "code",
   "execution_count": 1,
   "id": "68c2097e-5597-41d0-abfc-b928baa60f0b",
   "metadata": {},
   "outputs": [],
   "source": [
    "import pandas as pd\n",
    "import matplotlib.pyplot as plt\n",
    "import numpy as np\n",
    "import seaborn as sns\n",
    "from sklearn.metrics import accuracy_score, confusion_matrix"
   ]
  },
  {
   "cell_type": "code",
   "execution_count": 2,
   "id": "964bf326-0050-49e1-955f-bc0fc2f758af",
   "metadata": {},
   "outputs": [],
   "source": [
    "DTrain = pd.read_csv('BBC News Train.csv')\n",
    "DTest = pd.read_csv('BBC News Test.csv')"
   ]
  },
  {
   "cell_type": "markdown",
   "id": "0ebae58e-c5ca-4b0e-98cf-34220f75d0b3",
   "metadata": {},
   "source": [
    "# Exploratory Data Analysis."
   ]
  },
  {
   "cell_type": "code",
   "execution_count": 3,
   "id": "f515430a-6253-4c56-bbb8-e124fe920489",
   "metadata": {},
   "outputs": [
    {
     "name": "stdout",
     "output_type": "stream",
     "text": [
      "Categories ['business' 'tech' 'politics' 'sport' 'entertainment']\n",
      "<class 'pandas.core.frame.DataFrame'>\n",
      "RangeIndex: 1490 entries, 0 to 1489\n",
      "Data columns (total 3 columns):\n",
      " #   Column     Non-Null Count  Dtype \n",
      "---  ------     --------------  ----- \n",
      " 0   ArticleId  1490 non-null   int64 \n",
      " 1   Text       1490 non-null   object\n",
      " 2   Category   1490 non-null   object\n",
      "dtypes: int64(1), object(2)\n",
      "memory usage: 35.0+ KB\n"
     ]
    }
   ],
   "source": [
    "print('Categories',DTrain.Category.unique())\n",
    "DTrain.info()"
   ]
  },
  {
   "cell_type": "markdown",
   "id": "43036712-0cc3-492f-9b4b-44ffc5ce4777",
   "metadata": {},
   "source": [
    "There are 1490 articles from 5 different categories. How are the articles divided in the five different categories.\n"
   ]
  },
  {
   "cell_type": "code",
   "execution_count": 4,
   "id": "54e551e8-70d4-4e36-9c07-708ab6c01c49",
   "metadata": {},
   "outputs": [
    {
     "name": "stdout",
     "output_type": "stream",
     "text": [
      "<class 'pandas.core.frame.DataFrame'>\n",
      "RangeIndex: 735 entries, 0 to 734\n",
      "Data columns (total 2 columns):\n",
      " #   Column     Non-Null Count  Dtype \n",
      "---  ------     --------------  ----- \n",
      " 0   ArticleId  735 non-null    int64 \n",
      " 1   Text       735 non-null    object\n",
      "dtypes: int64(1), object(1)\n",
      "memory usage: 11.6+ KB\n"
     ]
    }
   ],
   "source": [
    "DTest.info()"
   ]
  },
  {
   "cell_type": "code",
   "execution_count": 5,
   "id": "05b2d75c-f848-4b3b-a515-76be8e2c7781",
   "metadata": {},
   "outputs": [
    {
     "data": {
      "image/png": "[encoded data removed]",
      "text/plain": [
       "<Figure size 432x288 with 1 Axes>"
      ]
     },
     "metadata": {
      "needs_background": "light"
     },
     "output_type": "display_data"
    }
   ],
   "source": [
    "plt.hist(DTrain.Category);"
   ]
  },
  {
   "cell_type": "markdown",
   "id": "5e0c30b6-6cde-48ce-a63a-ccb459e2ed6a",
   "metadata": {},
   "source": [
    "The category labels are balanced. "
   ]
  },
  {
   "cell_type": "code",
   "execution_count": 6,
   "id": "f2224c0d-cbd4-4036-b108-6572506caa87",
   "metadata": {
    "tags": []
   },
   "outputs": [
    {
     "data": {
      "text/html": [
       "<div>\n",
       "<style scoped>\n",
       "    .dataframe tbody tr th:only-of-type {\n",
       "        vertical-align: middle;\n",
       "    }\n",
       "\n",
       "    .dataframe tbody tr th {\n",
       "        vertical-align: top;\n",
       "    }\n",
       "\n",
       "    .dataframe thead th {\n",
       "        text-align: right;\n",
       "    }\n",
       "</style>\n",
       "<table border=\"1\" class=\"dataframe\">\n",
       "  <thead>\n",
       "    <tr style=\"text-align: right;\">\n",
       "      <th></th>\n",
       "      <th>ArticleId</th>\n",
       "      <th>Text</th>\n",
       "      <th>Category</th>\n",
       "    </tr>\n",
       "  </thead>\n",
       "  <tbody>\n",
       "    <tr>\n",
       "      <th>0</th>\n",
       "      <td>1833</td>\n",
       "      <td>worldcom ex-boss launches defence lawyers defe...</td>\n",
       "      <td>business</td>\n",
       "    </tr>\n",
       "    <tr>\n",
       "      <th>1</th>\n",
       "      <td>154</td>\n",
       "      <td>german business confidence slides german busin...</td>\n",
       "      <td>business</td>\n",
       "    </tr>\n",
       "    <tr>\n",
       "      <th>2</th>\n",
       "      <td>1101</td>\n",
       "      <td>bbc poll indicates economic gloom citizens in ...</td>\n",
       "      <td>business</td>\n",
       "    </tr>\n",
       "    <tr>\n",
       "      <th>3</th>\n",
       "      <td>1976</td>\n",
       "      <td>lifestyle  governs mobile choice  faster  bett...</td>\n",
       "      <td>tech</td>\n",
       "    </tr>\n",
       "    <tr>\n",
       "      <th>4</th>\n",
       "      <td>917</td>\n",
       "      <td>enron bosses in $168m payout eighteen former e...</td>\n",
       "      <td>business</td>\n",
       "    </tr>\n",
       "  </tbody>\n",
       "</table>\n",
       "</div>"
      ],
      "text/plain": [
       "   ArticleId                                               Text  Category\n",
       "0       1833  worldcom ex-boss launches defence lawyers defe...  business\n",
       "1        154  german business confidence slides german busin...  business\n",
       "2       1101  bbc poll indicates economic gloom citizens in ...  business\n",
       "3       1976  lifestyle  governs mobile choice  faster  bett...      tech\n",
       "4        917  enron bosses in $168m payout eighteen former e...  business"
      ]
     },
     "execution_count": 6,
     "metadata": {},
     "output_type": "execute_result"
    }
   ],
   "source": [
    "DTrain.head()\n"
   ]
  },
  {
   "cell_type": "markdown",
   "id": "86434436-305e-44ae-af3c-3d8ad8c58d6d",
   "metadata": {},
   "source": [
    "And the text is already cleaned, as it doesn't have uppercase letters or commas."
   ]
  },
  {
   "cell_type": "markdown",
   "id": "3f719b04-83c6-4636-9a32-17349f14210e",
   "metadata": {},
   "source": [
    "## Raw text to features vector using CountVectorizer"
   ]
  },
  {
   "cell_type": "markdown",
   "id": "ec2110e4-d602-40b7-8e3e-c6afd7179f86",
   "metadata": {},
   "source": [
    "First we use CountVectorizer from feature extraction to find and count the 10,000 most common single words, and 2 words grams in the texts. The results go to the matrix called vectors where each column is a word or 2 word ngram and each row is a document, the number in each cell is the number of times the word appeared in that document. To extract the features I will use both the test and train data sets. "
   ]
  },
  {
   "cell_type": "code",
   "execution_count": 7,
   "id": "03d38872-7d9d-4770-b5ee-a10090c82e0f",
   "metadata": {},
   "outputs": [
    {
     "data": {
      "text/plain": [
       "0      worldcom ex-boss launches defence lawyers defe...\n",
       "1      german business confidence slides german busin...\n",
       "2      bbc poll indicates economic gloom citizens in ...\n",
       "3      lifestyle  governs mobile choice  faster  bett...\n",
       "4      enron bosses in $168m payout eighteen former e...\n",
       "                             ...                        \n",
       "730    eu to probe alitalia  state aid  the european ...\n",
       "731    u2 to play at grammy awards show irish rock ba...\n",
       "732    sport betting rules in spotlight a group of mp...\n",
       "733    alfa romeos  to get gm engines  fiat is to sto...\n",
       "734    citizenship event for 18s touted citizenship c...\n",
       "Name: Text, Length: 2225, dtype: object"
      ]
     },
     "execution_count": 7,
     "metadata": {},
     "output_type": "execute_result"
    }
   ],
   "source": [
    "DTrain['Text'].append(DTest['Text'])"
   ]
  },
  {
   "cell_type": "code",
   "execution_count": 8,
   "id": "fefc3dde-0f40-4131-be68-3499b7ef102a",
   "metadata": {},
   "outputs": [
    {
     "data": {
      "text/plain": [
       "(2225, 10000)"
      ]
     },
     "execution_count": 8,
     "metadata": {},
     "output_type": "execute_result"
    }
   ],
   "source": [
    "from sklearn.feature_extraction.text import CountVectorizer\n",
    "vectorizer = CountVectorizer(stop_words='english',ngram_range = (1,2), max_features = 10000)\n",
    "vec_fit = vectorizer.fit(DTrain['Text'].append(DTest['Text'])) # (documents, vocab)\n",
    "vectors = vec_fit.transform(DTrain['Text'].append(DTest['Text'])).todense()\n",
    "vectors.shape #, vectors.nnz / vectors.shape[0], row_means.shape"
   ]
  },
  {
   "cell_type": "markdown",
   "id": "553ff615-d048-4cd2-b4f4-93e133f7b689",
   "metadata": {},
   "source": [
    "If we sum over the rows we get how many times each ngram appeared in total. And we can see the top 10 words and the plot of number of times each word appeared."
   ]
  },
  {
   "cell_type": "code",
   "execution_count": 9,
   "id": "c50c9480-8cf5-41a1-8ff9-7318fba2c67d",
   "metadata": {},
   "outputs": [
    {
     "name": "stdout",
     "output_type": "stream",
     "text": [
      "The top 10 words are:  ['said' 'mr' 'year' 'people' 'new' 'time' 'world' 'government' 'uk'\n",
      " 'years']\n"
     ]
    }
   ],
   "source": [
    "words = np.array(vec_fit.get_feature_names())\n",
    "top10  = np.flip(sum(vectors).argsort()).tolist()[0][0:10]\n",
    "top10\n",
    "print(\"The top 10 words are: \", words[top10])"
   ]
  },
  {
   "cell_type": "code",
   "execution_count": 10,
   "id": "14602e4e-a33d-409d-9e86-58d95265669a",
   "metadata": {},
   "outputs": [
    {
     "data": {
      "image/png": "[encoded data removed]",
      "text/plain": [
       "<Figure size 432x288 with 1 Axes>"
      ]
     },
     "metadata": {
      "needs_background": "light"
     },
     "output_type": "display_data"
    }
   ],
   "source": [
    "plt.plot(np.flip(np.sort(sum(vectors))).tolist()[0]);\n",
    "plt.xlabel(\"Words\");\n",
    "plt.ylabel('Number of appearances');\n"
   ]
  },
  {
   "cell_type": "markdown",
   "id": "85566dbd-fe41-4a99-ba1e-9d27451f104a",
   "metadata": {},
   "source": [
    "The plot above is showing the total number of times the words appear, they are sorted by number of time and we can clearly see an exponential.  To take into account that some words appear a lot in all kind of documents and not just in the ones cooresponding to the category, I will use TF-IDF to vectorize the information in the texts instead of the simple bag of words counter. "
   ]
  },
  {
   "cell_type": "markdown",
   "id": "126f4b97-4b3a-40da-b53d-afb779ed4ee4",
   "metadata": {},
   "source": [
    "## TF-IDF for feature extraction."
   ]
  },
  {
   "cell_type": "markdown",
   "id": "5fd50fb2-38eb-4a78-ab32-f403cb233616",
   "metadata": {},
   "source": [
    "To exctract the features from the texts I will use Bag of Words, TF-IDF so each text becomes a vector. This seemed as the more straight forward method to convert text to a vector from the options I found. Bag of words represent each sentence or text as all of its words in a bag without paying attention to the order or grammar in the sentence. Basically you look at each sentence and see how many times each word appears. Then a sentence like 'I love cats, because cats are the fluffiest.' Would become a vector like (1,1,2,1,1,1,1..), where the ones in the vector represent all the words that appeared only once in the sentence and the 2 is because the words cats appeared twice. While \"I love cats.\" would be (1,1,1,0,0,0,0..) as \"I\", \"love\" and 'cats' appeared once and the rest of the word hace zeros cause they arent in the sentence. If you only do this then you have the issue that longer sentences will have bigger number and would be more important and that filler words like the, or, and will have high numbers with out giving much meaning to the sentence as they are everywhere. This two issues can be solved somehow with TF-IDF.\n",
    "\n",
    "TF-IDF means term frequency–inverse document frequency, meaning you measure both the term frequency and the inverse document frequency. TF_IDF is calculated by ${\\displaystyle \\mathrm {tfidf} (t,d,D)=\\mathrm {tf} (t,d)\\cdot \\mathrm {idf} (t,D)}$.  Where for the term frequency $\\mathrm {tf} (t,d)$  you simply normalize over all the terms in the sentence. So the term frequency $\\mathrm {tf} (t,d)$ , is the relative frequency of term t within document d. A way to define it is just by dividing the number of time a term t appears in a document d over the total number of words or terms in such document.  In this case each document will be the text of each article or each row of the column text\n",
    "\n",
    "The inverse document frequency $\\mathrm {idf} (t,D)$ on the other hand, looks at the whole universe of documents in the data, so in this case all the rows of the column text and is used to give weights that are inverse to the total frquency. This way filler words like \"the\" because they appear a lot all over the text and provide very little information about the text will be given a really small weight. To get the $\\mathrm {idf} (t,D)$, you need to calculate the log of  N = the total number of documents in D, in this case is 1490 over the number of documents d or text where the term t appears. So if the word 'the' appears in every text/document then the $\\mathrm {idf} (t,D) = log(1490/1490)=log(1)=0$ and the word 'the' will have a zero value in every document vector.\n",
    "\n",
    "Sklearn has a feature extraction for text that converts a collection of raw documents to a matrix of TF-IDF features.\n",
    "\n"
   ]
  },
  {
   "cell_type": "code",
   "execution_count": 11,
   "id": "5b5e2565-3228-49c9-ac1b-269d04ca9b87",
   "metadata": {},
   "outputs": [],
   "source": [
    "from sklearn.feature_extraction.text import TfidfVectorizer\n",
    "tfidf = TfidfVectorizer(sublinear_tf= True,min_df =5, norm='l2', \n",
    "                        ngram_range=(1, 2),\n",
    "                        max_features=10000, stop_words='english')"
   ]
  },
  {
   "cell_type": "markdown",
   "id": "69b1b521-61ce-4393-ba07-a7b01bda6073",
   "metadata": {},
   "source": [
    "The vectorizer will be sublinear, meaning that the term frequency tf will be $1+log(tf)$ as the frequency of words follows an exponential law.  In min_df = 5, I specified the vectorizer to leave out words that appeared less than 5 times, norm = \"l2\", so the norm of a vector is given by the sum of the squares, ngram_range = (1,2), indicates that is looking for grams wit one and 2 words, so for example New York would appear as a 2 gram, max_features =10000 indicates to not extract more that 10,000 features or ngrams, and stop_words = 'english' is telling to not include commone words with no information like 'the', 'should'....\n"
   ]
  },
  {
   "cell_type": "code",
   "execution_count": 12,
   "id": "54733a2a-794d-4e82-9724-af71af335d12",
   "metadata": {},
   "outputs": [],
   "source": [
    "#Fit the vectorizer with the train data.\n",
    "tfidf_vec = tfidf.fit(DTrain['Text'].append(DTest['Text']))\n",
    "#labels = df.category_id\n",
    "\n",
    "#Transform the train and test data according to the vectorizer. \n",
    "X_train = tfidf_vec.transform(DTrain.Text)\n",
    "X_test = tfidf_vec.transform(DTest.Text)\n",
    "\n",
    "#Get the features names. \n",
    "voc = tfidf.get_feature_names()"
   ]
  },
  {
   "cell_type": "markdown",
   "id": "d4b6cfe6-cfd1-42a9-851b-ae5fb4940b85",
   "metadata": {},
   "source": [
    "X_train returned a 1490 x 9927 matrix that cointains the tf-idf of 1490 articles with 9927 features or ngrams. In the matrix image below we can see its quite sparse as it looks black. Like everything is zero, but if we zoom in to see only the first 100 features of a 100 articles we can see there are some values that aren't zero. But that the matrix is sparse. \n"
   ]
  },
  {
   "cell_type": "code",
   "execution_count": 13,
   "id": "b830e4cc-150f-4e14-9273-d1640aeaf8c0",
   "metadata": {},
   "outputs": [
    {
     "data": {
      "image/png": "[encoded data removed]",
      "text/plain": [
       "<Figure size 432x288 with 2 Axes>"
      ]
     },
     "metadata": {
      "needs_background": "light"
     },
     "output_type": "display_data"
    }
   ],
   "source": [
    "sns.heatmap(X_train.todense());\n"
   ]
  },
  {
   "cell_type": "code",
   "execution_count": 14,
   "id": "8e0964f3-e0a6-4ac2-8e56-80cdb47f3928",
   "metadata": {},
   "outputs": [
    {
     "data": {
      "image/png": "[encoded data removed]",
      "text/plain": [
       "<Figure size 432x288 with 2 Axes>"
      ]
     },
     "metadata": {
      "needs_background": "light"
     },
     "output_type": "display_data"
    }
   ],
   "source": [
    "sns.heatmap(X_train.todense()[0:100,0:100]);"
   ]
  },
  {
   "cell_type": "markdown",
   "id": "0622ca30-ec4f-4923-96f0-081f476950d5",
   "metadata": {},
   "source": [
    "# Building and trainning the model."
   ]
  },
  {
   "cell_type": "markdown",
   "id": "90600c8e-373c-4771-9a9d-44ad87972b3b",
   "metadata": {},
   "source": [
    "I will calculate the Non-negative Matrix Factorization using NMF from sklearn decomposition. I will use 5 components as there are 5 different categories. And will use the train data to fit the model. "
   ]
  },
  {
   "cell_type": "code",
   "execution_count": 15,
   "id": "483a8748-4a9e-42bb-9aea-e82c44f402ce",
   "metadata": {},
   "outputs": [
    {
     "data": {
      "text/plain": [
       "37.3322584147751"
      ]
     },
     "execution_count": 15,
     "metadata": {},
     "output_type": "execute_result"
    }
   ],
   "source": [
    "from sklearn import decomposition\n",
    "nmf_mod = decomposition.NMF(n_components=5,init='nndsvda')\n",
    "\n",
    "W = nmf_mod.fit_transform(X_train)\n",
    "H = nmf_mod.components_\n",
    "nmf_mod.reconstruction_err_"
   ]
  },
  {
   "cell_type": "markdown",
   "id": "d375fd8a-1c87-4e69-bde3-8fe69fdbea22",
   "metadata": {},
   "source": [
    "The original matrix was factorized with a reconstruction error of 37.33 in two matrices W and H with sizes:"
   ]
  },
  {
   "cell_type": "code",
   "execution_count": 16,
   "id": "79b6d9a8-a1a4-4cb3-89b3-39bfbe9c3854",
   "metadata": {},
   "outputs": [
    {
     "name": "stdout",
     "output_type": "stream",
     "text": [
      "(1490, 5) (5, 10000)\n"
     ]
    }
   ],
   "source": [
    "print(W.shape, H.shape)\n"
   ]
  },
  {
   "cell_type": "markdown",
   "id": "8fb2dfbb-db32-40c2-b420-92c18406dc54",
   "metadata": {},
   "source": [
    "W has the five different topics per article and H has the words per topic. \n",
    "We apply the same matrix decomposition to the test data to be able to predict the categories of the test data. "
   ]
  },
  {
   "cell_type": "code",
   "execution_count": 17,
   "id": "f71c7d6f-ed1d-4bce-9511-2af308130d34",
   "metadata": {},
   "outputs": [],
   "source": [
    "W_t = nmf_mod.transform(X_test)"
   ]
  },
  {
   "cell_type": "markdown",
   "id": "126b2162-904a-424a-b55a-a3fd2c54ad41",
   "metadata": {},
   "source": [
    "### What are the most important words per topic."
   ]
  },
  {
   "cell_type": "code",
   "execution_count": 18,
   "id": "0f834c36-f384-4a9d-843b-b83114472039",
   "metadata": {},
   "outputs": [
    {
     "data": {
      "image/png": "[encoded data removed]",
      "text/plain": [
       "<Figure size 1440x1080 with 5 Axes>"
      ]
     },
     "metadata": {
      "needs_background": "light"
     },
     "output_type": "display_data"
    }
   ],
   "source": [
    "n_top = 16\n",
    "\n",
    "fig, axes = plt.subplots(1, 5, figsize=(20, 15), sharex=True)\n",
    "axes = axes.flatten()\n",
    "for topic_idx, topic in enumerate(nmf_mod.components_):\n",
    "    top_features_ind = topic.argsort()[: -n_top : -1]\n",
    "    top_features = [voc[i] for i in top_features_ind]\n",
    "    weights = topic[top_features_ind]\n",
    "    ax = axes[topic_idx]\n",
    "    ax.barh(top_features, weights, height=0.6)\n",
    "    ax.set_title(f\"Topic {topic_idx}\", fontdict={\"fontsize\": 20})\n",
    "    ax.invert_yaxis()\n",
    "    ax.tick_params(axis=\"both\", which=\"major\", labelsize=16)\n",
    "    \n",
    "plt.subplots_adjust(top=0.90, bottom=0.05, wspace=1)\n",
    "plt.show()"
   ]
  },
  {
   "cell_type": "markdown",
   "id": "cc2c13fa-3fce-4bd1-8d10-6c6a8aa41219",
   "metadata": {},
   "source": [
    "From the most important words in each topic we can do the next mapping. \n",
    "\n",
    "|Topic Id|  Topic|\n",
    "|:----|:--------:|\n",
    "|0| Tech|\n",
    "|1| Sport|\n",
    "|2| Politics|\n",
    "|3| Entertainment|\n",
    "|4| Business|\n",
    "\n",
    "\n",
    "And use it to see how well can the articles be divided according to its topics. "
   ]
  },
  {
   "cell_type": "code",
   "execution_count": 19,
   "id": "c9c29464-74cb-490e-bd6f-a2f5ee47af21",
   "metadata": {},
   "outputs": [
    {
     "name": "stdout",
     "output_type": "stream",
     "text": [
      "['business' 'tech' 'politics' 'sport' 'entertainment']\n",
      "[4 0 2 1 3]\n"
     ]
    }
   ],
   "source": [
    "L_names = DTrain.Category.unique()\n",
    "id_top = np.array([4,0,2,1,3])\n",
    "print(L_names)\n",
    "print(id_top)\n",
    "d_lab = dict(zip(L_names, id_top))\n",
    "#Create list of labels with the current permutation tags. \n",
    "DTrain['topic_id'] = [d_lab[x] for x in DTrain.Category]\n"
   ]
  },
  {
   "cell_type": "markdown",
   "id": "540b6209-63a9-4e55-a547-72d935eb4ce1",
   "metadata": {},
   "source": [
    "Get the topic of each article by finding which component each row in W is the predominant. To assign to which topic does each article belongs we find which column of the matrix W has the largest value. "
   ]
  },
  {
   "cell_type": "code",
   "execution_count": 20,
   "id": "9ad06fa8-b8d0-43e2-bfa3-f75ea62debfe",
   "metadata": {},
   "outputs": [
    {
     "name": "stdout",
     "output_type": "stream",
     "text": [
      "The accuracy on the train data is: 0.946\n"
     ]
    }
   ],
   "source": [
    "clusters = W.argmax(axis=1)\n",
    "acc = accuracy_score(clusters,DTrain.topic_id)\n",
    "print(\"The accuracy on the train data is:\", round(acc,3))"
   ]
  },
  {
   "cell_type": "markdown",
   "id": "bf5c6ad2-8139-4605-8ed9-fc9cba586be9",
   "metadata": {},
   "source": [
    "And the confusion matrix for the train data is:\n"
   ]
  },
  {
   "cell_type": "code",
   "execution_count": 21,
   "id": "be74587d-feba-4c0e-89f0-e5c77bc7e217",
   "metadata": {},
   "outputs": [
    {
     "data": {
      "text/plain": [
       "array([[242,   0,   3,  13,   4],\n",
       "       [  8, 341,   2,   6,   0],\n",
       "       [  1,   1, 258,   3,   5],\n",
       "       [  4,   2,   0, 242,   0],\n",
       "       [  6,   2,  11,   9, 327]])"
      ]
     },
     "execution_count": 21,
     "metadata": {},
     "output_type": "execute_result"
    }
   ],
   "source": [
    "confusion_matrix(clusters,DTrain.topic_id)"
   ]
  },
  {
   "cell_type": "markdown",
   "id": "3537c37d-c30e-4b72-ab92-4363375e7f56",
   "metadata": {},
   "source": [
    "To find out the accuracy of the test data we also get the maximum colum per row in the W_t matrix and submit the results to kaggle by saving them in a CSV file."
   ]
  },
  {
   "cell_type": "code",
   "execution_count": 22,
   "id": "ba464501-af40-46b7-aae3-2de3c1dc7ea1",
   "metadata": {},
   "outputs": [],
   "source": [
    "R_test = DTest.drop(columns = {\"Text\"})\n",
    "R_test['Category_id'] = W_t.argmax(axis=1)\n",
    "r_lab = dict(zip(id_top,L_names))\n",
    "#Create list of labels with the current permutation tags. \n",
    "R_test['Category'] = [r_lab[x] for x in R_test.Category_id]\n",
    "R_test = R_test.drop(columns = {\"Category_id\"})"
   ]
  },
  {
   "cell_type": "code",
   "execution_count": 23,
   "id": "04d713f9-5fa9-48a7-b45c-8829397df056",
   "metadata": {},
   "outputs": [],
   "source": [
    "R_test.to_csv('BBC_test_pred.csv',index = False)"
   ]
  },
  {
   "cell_type": "markdown",
   "id": "b11a2e79-8394-4f6c-9457-dfdd1191aabf",
   "metadata": {},
   "source": [
    "The kaggle score from the above results was 0.961\n"
   ]
  },
  {
   "cell_type": "markdown",
   "id": "812179bd-3f51-4a51-819f-473564c80774",
   "metadata": {},
   "source": [
    "### Changing the hyperparameters. \n",
    "How does the results change if we use a different solver and loss function. The coordinate descend 'cd' solver only works with the frobenius loss, and the 'itakura-saito' loss doesn't work with sparse matrix as the one we got for our data.\n",
    "\n",
    "To be able to compare results of train and test with the different hyperparameters and train and test data without having to submit to kaggle for each trial I will divide the train data in test and train. "
   ]
  },
  {
   "cell_type": "code",
   "execution_count": 24,
   "id": "946f46b1-8b42-48c4-ab7a-422f82e542f4",
   "metadata": {},
   "outputs": [],
   "source": [
    "from sklearn.model_selection import train_test_split\n",
    "x_train, x_test, y_train, y_test = train_test_split(X_train, DTrain.topic_id,\n",
    "                                                    test_size=0.2, random_state=42)\n",
    "\n",
    "\n"
   ]
  },
  {
   "cell_type": "code",
   "execution_count": 25,
   "id": "0c3f9273-b16f-4ebf-8bf9-6753ce884580",
   "metadata": {},
   "outputs": [
    {
     "name": "stdout",
     "output_type": "stream",
     "text": [
      "Train Accuracy\n"
     ]
    },
    {
     "data": {
      "text/html": [
       "<div>\n",
       "<style scoped>\n",
       "    .dataframe tbody tr th:only-of-type {\n",
       "        vertical-align: middle;\n",
       "    }\n",
       "\n",
       "    .dataframe tbody tr th {\n",
       "        vertical-align: top;\n",
       "    }\n",
       "\n",
       "    .dataframe thead th {\n",
       "        text-align: right;\n",
       "    }\n",
       "</style>\n",
       "<table border=\"1\" class=\"dataframe\">\n",
       "  <thead>\n",
       "    <tr style=\"text-align: right;\">\n",
       "      <th></th>\n",
       "      <th>frobenius</th>\n",
       "      <th>kullback-leibler</th>\n",
       "    </tr>\n",
       "  </thead>\n",
       "  <tbody>\n",
       "    <tr>\n",
       "      <th>cd</th>\n",
       "      <td>0.935</td>\n",
       "      <td>NaN</td>\n",
       "    </tr>\n",
       "    <tr>\n",
       "      <th>mu</th>\n",
       "      <td>0.938</td>\n",
       "      <td>0.961</td>\n",
       "    </tr>\n",
       "  </tbody>\n",
       "</table>\n",
       "</div>"
      ],
      "text/plain": [
       "   frobenius kullback-leibler\n",
       "cd     0.935              NaN\n",
       "mu     0.938            0.961"
      ]
     },
     "metadata": {},
     "output_type": "display_data"
    },
    {
     "name": "stdout",
     "output_type": "stream",
     "text": [
      "Test Accuracy\n"
     ]
    },
    {
     "data": {
      "text/html": [
       "<div>\n",
       "<style scoped>\n",
       "    .dataframe tbody tr th:only-of-type {\n",
       "        vertical-align: middle;\n",
       "    }\n",
       "\n",
       "    .dataframe tbody tr th {\n",
       "        vertical-align: top;\n",
       "    }\n",
       "\n",
       "    .dataframe thead th {\n",
       "        text-align: right;\n",
       "    }\n",
       "</style>\n",
       "<table border=\"1\" class=\"dataframe\">\n",
       "  <thead>\n",
       "    <tr style=\"text-align: right;\">\n",
       "      <th></th>\n",
       "      <th>frobenius</th>\n",
       "      <th>kullback-leibler</th>\n",
       "    </tr>\n",
       "  </thead>\n",
       "  <tbody>\n",
       "    <tr>\n",
       "      <th>cd</th>\n",
       "      <td>0.95</td>\n",
       "      <td>NaN</td>\n",
       "    </tr>\n",
       "    <tr>\n",
       "      <th>mu</th>\n",
       "      <td>0.96</td>\n",
       "      <td>0.977</td>\n",
       "    </tr>\n",
       "  </tbody>\n",
       "</table>\n",
       "</div>"
      ],
      "text/plain": [
       "   frobenius kullback-leibler\n",
       "cd      0.95              NaN\n",
       "mu      0.96            0.977"
      ]
     },
     "metadata": {},
     "output_type": "display_data"
    }
   ],
   "source": [
    "solver = ['cd','mu']\n",
    "loss = ['frobenius', 'kullback-leibler']\n",
    "Train_ACC = pd.DataFrame(columns = loss, index = solver)\n",
    "Test_ACC = pd.DataFrame(columns = loss, index = solver)\n",
    "\n",
    "for sl in solver:\n",
    "    for l in loss:\n",
    "        if (l != 'frobenius')&(sl=='cd'):\n",
    "            pass\n",
    "        else:\n",
    "            nmf_mod = decomposition.NMF(n_components=5,solver= sl,beta_loss=l,init='nndsvda')\n",
    "            W = nmf_mod.fit_transform(x_train)\n",
    "            clusters = W.argmax(axis=1)\n",
    "            Train_ACC.loc[sl,l] = round(accuracy_score(clusters,y_train),3)\n",
    "            W_t = nmf_mod.transform(x_test)\n",
    "            Test_ACC.loc[sl,l] = round(accuracy_score(W_t.argmax(axis=1),y_test),3)\n",
    "\n",
    "\n",
    "print(\"Train Accuracy\")\n",
    "display(Train_ACC)\n",
    "print(\"Test Accuracy\")\n",
    "display(Test_ACC)"
   ]
  },
  {
   "cell_type": "markdown",
   "id": "0781a68f-80da-4d0e-9ea9-6c033c082abb",
   "metadata": {},
   "source": [
    "We can see that the kullback-leibler loss function got a bit better results in both the train and test cases than frobenious. I tried seeing what happened adjusting the regularization parameter using using kullback_leibler but the results didn't change. However if we use the default 'cd' and frobenius.The other hyperparameter we can change and see how it reacts is the regularization. "
   ]
  },
  {
   "cell_type": "code",
   "execution_count": 26,
   "id": "17591959-b8b2-4ee4-b07f-7b903c5985f7",
   "metadata": {},
   "outputs": [
    {
     "data": {
      "text/html": [
       "<div>\n",
       "<style scoped>\n",
       "    .dataframe tbody tr th:only-of-type {\n",
       "        vertical-align: middle;\n",
       "    }\n",
       "\n",
       "    .dataframe tbody tr th {\n",
       "        vertical-align: top;\n",
       "    }\n",
       "\n",
       "    .dataframe thead th {\n",
       "        text-align: right;\n",
       "    }\n",
       "</style>\n",
       "<table border=\"1\" class=\"dataframe\">\n",
       "  <thead>\n",
       "    <tr style=\"text-align: right;\">\n",
       "      <th></th>\n",
       "      <th>Train</th>\n",
       "      <th>Test</th>\n",
       "    </tr>\n",
       "  </thead>\n",
       "  <tbody>\n",
       "    <tr>\n",
       "      <th>0.00</th>\n",
       "      <td>0.935</td>\n",
       "      <td>0.95</td>\n",
       "    </tr>\n",
       "    <tr>\n",
       "      <th>0.25</th>\n",
       "      <td>0.938</td>\n",
       "      <td>0.963</td>\n",
       "    </tr>\n",
       "    <tr>\n",
       "      <th>0.50</th>\n",
       "      <td>0.937</td>\n",
       "      <td>0.96</td>\n",
       "    </tr>\n",
       "    <tr>\n",
       "      <th>1.00</th>\n",
       "      <td>0.937</td>\n",
       "      <td>0.963</td>\n",
       "    </tr>\n",
       "    <tr>\n",
       "      <th>2.00</th>\n",
       "      <td>0.935</td>\n",
       "      <td>0.956</td>\n",
       "    </tr>\n",
       "  </tbody>\n",
       "</table>\n",
       "</div>"
      ],
      "text/plain": [
       "      Train   Test\n",
       "0.00  0.935   0.95\n",
       "0.25  0.938  0.963\n",
       "0.50  0.937   0.96\n",
       "1.00  0.937  0.963\n",
       "2.00  0.935  0.956"
      ]
     },
     "execution_count": 26,
     "metadata": {},
     "output_type": "execute_result"
    }
   ],
   "source": [
    "reg = [0,.25,0.5,1,2]\n",
    "Accuracy = pd.DataFrame(columns = ['Train','Test'], index = reg)\n",
    "\n",
    "for ir in reg:\n",
    "    nmf_mod = decomposition.NMF(n_components=5, solver= 'cd',beta_loss='frobenius'\n",
    "                                ,alpha =ir,init='nndsvda')\n",
    "    W = nmf_mod.fit_transform(x_train)\n",
    "    clusters = W.argmax(axis=1)\n",
    "    Accuracy.Train[ir] = round(accuracy_score(clusters,y_train),3)\n",
    "    W_t = nmf_mod.transform(x_test)\n",
    "    Accuracy.Test[ir] = round(accuracy_score(W_t.argmax(axis=1),y_test),3)\n",
    "\n",
    "\n",
    "Accuracy"
   ]
  },
  {
   "cell_type": "markdown",
   "id": "0626e2be-d6cf-4932-925a-c34aa8e7e395",
   "metadata": {},
   "source": [
    "The accuracy increases slightly for small regularization parameters, but the results from kullback-leibler are better. This was expected as kullback+leiber works best with sparse matrices. So I will train the model using the kullback-leibler loss and the whole train data and submit the test results once again to kaggle to see if there was any improvements. "
   ]
  },
  {
   "cell_type": "code",
   "execution_count": 27,
   "id": "01a2ae94-ee18-4395-bea0-8529771e31ce",
   "metadata": {},
   "outputs": [
    {
     "name": "stdout",
     "output_type": "stream",
     "text": [
      "The accuracy on the train data is: 0.968\n"
     ]
    }
   ],
   "source": [
    "nmf_mod = decomposition.NMF(n_components=5,init='nndsvda',\n",
    "                            beta_loss='kullback-leibler',solver='mu')\n",
    "\n",
    "W = nmf_mod.fit_transform(X_train)\n",
    "W_t = nmf_mod.transform(X_test)\n",
    "\n",
    "clusters = W.argmax(axis=1)\n",
    "acc = accuracy_score(clusters,DTrain.topic_id)\n",
    "print(\"The accuracy on the train data is:\", round(acc,3))\n",
    "R_test = DTest.drop(columns = {\"Text\"})\n",
    "R_test['Category_id'] = W_t.argmax(axis=1)\n",
    "r_lab = dict(zip(id_top,L_names))\n",
    "#Create list of labels with the current permutation tags. \n",
    "R_test['Category'] = [r_lab[x] for x in R_test.Category_id]\n",
    "R_test = R_test.drop(columns = {\"Category_id\"})\n",
    "R_test.to_csv('BBC_test_pred.csv',index = False)"
   ]
  },
  {
   "cell_type": "markdown",
   "id": "7af99683-d412-4217-ae7d-28408e148771",
   "metadata": {},
   "source": [
    "The train data accuracy increased, however when I submited the results to kaggle the test accuracy I got was  0.961, the same as with frobenius loss and cd solver. "
   ]
  },
  {
   "cell_type": "markdown",
   "id": "fa2927ef-ec33-4d4a-a0f6-0705d991521c",
   "metadata": {},
   "source": [
    "For feature extraction I tried using only the train texts and both the test and train texts. Using both the train accuracy slightly increased, but the test one stayed the same, so it doesnt seem like a real improvement. I tried different parameters when extracting the features, just doing the bag of words with out the inverse document training didnt get as good results as with the tf-idf. In tf-idf I also tried just using ngrams with 1 word or using also ngrams with 3 words, but the best result I got was with 1 and 2 words ngrams. "
   ]
  },
  {
   "cell_type": "markdown",
   "id": "e5664d0b-70d7-4454-9ecb-b0f08e6af42e",
   "metadata": {},
   "source": [
    "# Compare with Supervised Learning. \n",
    "Before running a supervised clasification method on the data I will reduce the dimensions of the tf-idf matrix using Singular Value Decomposition. "
   ]
  },
  {
   "cell_type": "markdown",
   "id": "5fbb6b64-ea12-4e3c-9c1c-fd6e54cac915",
   "metadata": {},
   "source": [
    "### Singular Value Decomposition. Truncated SVD.\n",
    "I'm looking to have a variance ratio of at least 0.95"
   ]
  },
  {
   "cell_type": "code",
   "execution_count": 28,
   "id": "c4eb6588-eb7a-4cb5-bd27-2fc67e02d5b7",
   "metadata": {},
   "outputs": [
    {
     "name": "stdout",
     "output_type": "stream",
     "text": [
      "1171\n"
     ]
    }
   ],
   "source": [
    "from sklearn.decomposition import TruncatedSVD\n",
    "tsvd = TruncatedSVD(n_components = 2000).fit(X_train)\n",
    "cvar = np.cumsum(tsvd.explained_variance_ratio_)\n",
    "N = np.where(cvar>0.95)[0][0]\n",
    "tsvd = TruncatedSVD(n_components = N).fit(X_train)\n",
    "x_tr = tsvd.transform(X_train)\n",
    "x_ts = tsvd.transform(X_test)\n",
    "print(N)"
   ]
  },
  {
   "cell_type": "markdown",
   "id": "b9be4c79-c759-423a-9627-f08c3a03d5c7",
   "metadata": {},
   "source": [
    "### Random Forest\n",
    "Given that there are still a lot of features 1171, and not that much data I will use a Random Forest classifier to classify the data. I will divide the train/test data with 30% of test data"
   ]
  },
  {
   "cell_type": "code",
   "execution_count": 29,
   "id": "4521df5a-ffac-4d1e-9f89-662f7d154cee",
   "metadata": {},
   "outputs": [
    {
     "name": "stdout",
     "output_type": "stream",
     "text": [
      "The train accuracy is:  0.953\n",
      "The test accuracy is:  0.94\n"
     ]
    }
   ],
   "source": [
    "from sklearn.ensemble import RandomForestClassifier\n",
    "from sklearn.ensemble import ExtraTreesClassifier\n",
    "x_train, x_test, y_train, y_test = train_test_split(x_tr, DTrain.Category,\n",
    "                                                    test_size=0.3, random_state=42)\n",
    "\n",
    "RF = RandomForestClassifier(n_estimators= 150,max_depth=3, random_state=30)\n",
    "Rfm = RF.fit(x_train, y_train)\n",
    "\n",
    "print(\"The train accuracy is: \",np.round(accuracy_score(Rfm.predict(x_train),y_train),3))\n",
    "print(\"The test accuracy is: \",np.round(accuracy_score(Rfm.predict(x_test),y_test),3))\n"
   ]
  },
  {
   "cell_type": "code",
   "execution_count": 30,
   "id": "1519de6e-d108-48ec-ba03-e3aeed1a81bc",
   "metadata": {},
   "outputs": [],
   "source": [
    "R_test.Category = Rfm.predict(x_ts)\n",
    "R_test.to_csv(\"test_pred_RF.csv\",index = False)"
   ]
  },
  {
   "cell_type": "code",
   "execution_count": null,
   "id": "54c9f76b-ec04-43e5-bff9-1942b781dbb8",
   "metadata": {},
   "outputs": [],
   "source": []
  },
  {
   "cell_type": "markdown",
   "id": "37878283-b44c-4eeb-bbfe-f77d031b73a9",
   "metadata": {},
   "source": [
    "Using the previous classifier to predict the test cases and submiting to kaggle I got a 0.94013 accuracy. \n"
   ]
  },
  {
   "cell_type": "code",
   "execution_count": 31,
   "id": "050e0e73-a498-40f4-8c06-618bf0fc2ac3",
   "metadata": {},
   "outputs": [],
   "source": [
    "#Function that gets both the train and test accuracy for the 2 models\n",
    "def model_comparison(test_fracc, modelns, models):\n",
    "    #Divide the data sets.\n",
    "    x_train, x_test, y_train, y_test = train_test_split(X_train, DTrain.topic_id,\n",
    "                                                    test_size=test_fracc)\n",
    "    #First get model ns.\n",
    "    W = modelns.fit_transform(x_train)\n",
    "    Acc_Train_ns = np.round(accuracy_score(W.argmax(axis=1),y_train),3)\n",
    "    W_t = nmf_mod.transform(x_test)\n",
    "    Acc_Test_ns = np.round(accuracy_score(W_t.argmax(axis=1),y_test),3)\n",
    "    #Then model s.#First we fit it\n",
    "    modelsf = models.fit(x_train, y_train)\n",
    "    Acc_Train_RF = np.round(accuracy_score(modelsf.predict(x_train),y_train),3)\n",
    "    Acc_Test_RF = np.round(accuracy_score(modelsf.predict(x_test),y_test),3)\n",
    "    \n",
    "    return Acc_Train_ns, Acc_Test_ns, Acc_Train_RF, Acc_Test_RF"
   ]
  },
  {
   "cell_type": "markdown",
   "id": "5e17c3a9-9c77-4ee6-9844-aad791955d88",
   "metadata": {},
   "source": [
    "To check how the two models behave with different train test data sets I will run the models and make a table with the average results. "
   ]
  },
  {
   "cell_type": "code",
   "execution_count": 32,
   "id": "f5a5ebf3-92f1-4848-be19-732c9c773449",
   "metadata": {},
   "outputs": [
    {
     "data": {
      "text/plain": [
       "array([0.1 , 0.15, 0.2 , 0.25, 0.3 , 0.35, 0.4 , 0.45, 0.5 , 0.55, 0.6 ,\n",
       "       0.65, 0.7 , 0.75, 0.8 , 0.85, 0.9 , 0.95])"
      ]
     },
     "execution_count": 32,
     "metadata": {},
     "output_type": "execute_result"
    }
   ],
   "source": [
    "np.arange(0.1,1,0.05)"
   ]
  },
  {
   "cell_type": "code",
   "execution_count": 34,
   "id": "5541a615-be12-4b98-b35e-f047d22a2e51",
   "metadata": {},
   "outputs": [
    {
     "data": {
      "text/html": [
       "<div>\n",
       "<style scoped>\n",
       "    .dataframe tbody tr th:only-of-type {\n",
       "        vertical-align: middle;\n",
       "    }\n",
       "\n",
       "    .dataframe tbody tr th {\n",
       "        vertical-align: top;\n",
       "    }\n",
       "\n",
       "    .dataframe thead th {\n",
       "        text-align: right;\n",
       "    }\n",
       "</style>\n",
       "<table border=\"1\" class=\"dataframe\">\n",
       "  <thead>\n",
       "    <tr style=\"text-align: right;\">\n",
       "      <th></th>\n",
       "      <th>NMF_trial</th>\n",
       "      <th>NMF_test</th>\n",
       "      <th>RF_trial</th>\n",
       "      <th>RF_test</th>\n",
       "    </tr>\n",
       "  </thead>\n",
       "  <tbody>\n",
       "    <tr>\n",
       "      <th>0.10</th>\n",
       "      <td>0.7752</td>\n",
       "      <td>0.7838</td>\n",
       "      <td>0.8672</td>\n",
       "      <td>0.8336</td>\n",
       "    </tr>\n",
       "    <tr>\n",
       "      <th>0.15</th>\n",
       "      <td>0.703</td>\n",
       "      <td>0.7242</td>\n",
       "      <td>0.8476</td>\n",
       "      <td>0.8062</td>\n",
       "    </tr>\n",
       "    <tr>\n",
       "      <th>0.20</th>\n",
       "      <td>0.6556</td>\n",
       "      <td>0.6576</td>\n",
       "      <td>0.8522</td>\n",
       "      <td>0.8254</td>\n",
       "    </tr>\n",
       "    <tr>\n",
       "      <th>0.25</th>\n",
       "      <td>0.6278</td>\n",
       "      <td>0.6218</td>\n",
       "      <td>0.8452</td>\n",
       "      <td>0.8054</td>\n",
       "    </tr>\n",
       "    <tr>\n",
       "      <th>0.30</th>\n",
       "      <td>0.7488</td>\n",
       "      <td>0.7534</td>\n",
       "      <td>0.8532</td>\n",
       "      <td>0.8236</td>\n",
       "    </tr>\n",
       "    <tr>\n",
       "      <th>0.35</th>\n",
       "      <td>0.6564</td>\n",
       "      <td>0.6554</td>\n",
       "      <td>0.8622</td>\n",
       "      <td>0.812</td>\n",
       "    </tr>\n",
       "    <tr>\n",
       "      <th>0.40</th>\n",
       "      <td>0.7466</td>\n",
       "      <td>0.7328</td>\n",
       "      <td>0.8658</td>\n",
       "      <td>0.8144</td>\n",
       "    </tr>\n",
       "    <tr>\n",
       "      <th>0.45</th>\n",
       "      <td>0.6082</td>\n",
       "      <td>0.6214</td>\n",
       "      <td>0.8812</td>\n",
       "      <td>0.827</td>\n",
       "    </tr>\n",
       "    <tr>\n",
       "      <th>0.50</th>\n",
       "      <td>0.5916</td>\n",
       "      <td>0.6014</td>\n",
       "      <td>0.8682</td>\n",
       "      <td>0.8094</td>\n",
       "    </tr>\n",
       "    <tr>\n",
       "      <th>0.55</th>\n",
       "      <td>0.4594</td>\n",
       "      <td>0.4702</td>\n",
       "      <td>0.8702</td>\n",
       "      <td>0.8266</td>\n",
       "    </tr>\n",
       "    <tr>\n",
       "      <th>0.60</th>\n",
       "      <td>0.6904</td>\n",
       "      <td>0.7016</td>\n",
       "      <td>0.8614</td>\n",
       "      <td>0.7894</td>\n",
       "    </tr>\n",
       "    <tr>\n",
       "      <th>0.65</th>\n",
       "      <td>0.688</td>\n",
       "      <td>0.7132</td>\n",
       "      <td>0.8782</td>\n",
       "      <td>0.8084</td>\n",
       "    </tr>\n",
       "    <tr>\n",
       "      <th>0.70</th>\n",
       "      <td>0.3718</td>\n",
       "      <td>0.3806</td>\n",
       "      <td>0.8902</td>\n",
       "      <td>0.8168</td>\n",
       "    </tr>\n",
       "    <tr>\n",
       "      <th>0.75</th>\n",
       "      <td>0.5034</td>\n",
       "      <td>0.491</td>\n",
       "      <td>0.849</td>\n",
       "      <td>0.7424</td>\n",
       "    </tr>\n",
       "    <tr>\n",
       "      <th>0.80</th>\n",
       "      <td>0.4338</td>\n",
       "      <td>0.4488</td>\n",
       "      <td>0.9004</td>\n",
       "      <td>0.7986</td>\n",
       "    </tr>\n",
       "    <tr>\n",
       "      <th>0.85</th>\n",
       "      <td>0.2028</td>\n",
       "      <td>0.2078</td>\n",
       "      <td>0.8664</td>\n",
       "      <td>0.6916</td>\n",
       "    </tr>\n",
       "    <tr>\n",
       "      <th>0.90</th>\n",
       "      <td>0.234</td>\n",
       "      <td>0.2522</td>\n",
       "      <td>0.8528</td>\n",
       "      <td>0.6156</td>\n",
       "    </tr>\n",
       "    <tr>\n",
       "      <th>0.95</th>\n",
       "      <td>0.2944</td>\n",
       "      <td>0.2838</td>\n",
       "      <td>0.8458</td>\n",
       "      <td>0.409</td>\n",
       "    </tr>\n",
       "  </tbody>\n",
       "</table>\n",
       "</div>"
      ],
      "text/plain": [
       "     NMF_trial NMF_test RF_trial RF_test\n",
       "0.10    0.7752   0.7838   0.8672  0.8336\n",
       "0.15     0.703   0.7242   0.8476  0.8062\n",
       "0.20    0.6556   0.6576   0.8522  0.8254\n",
       "0.25    0.6278   0.6218   0.8452  0.8054\n",
       "0.30    0.7488   0.7534   0.8532  0.8236\n",
       "0.35    0.6564   0.6554   0.8622   0.812\n",
       "0.40    0.7466   0.7328   0.8658  0.8144\n",
       "0.45    0.6082   0.6214   0.8812   0.827\n",
       "0.50    0.5916   0.6014   0.8682  0.8094\n",
       "0.55    0.4594   0.4702   0.8702  0.8266\n",
       "0.60    0.6904   0.7016   0.8614  0.7894\n",
       "0.65     0.688   0.7132   0.8782  0.8084\n",
       "0.70    0.3718   0.3806   0.8902  0.8168\n",
       "0.75    0.5034    0.491    0.849  0.7424\n",
       "0.80    0.4338   0.4488   0.9004  0.7986\n",
       "0.85    0.2028   0.2078   0.8664  0.6916\n",
       "0.90     0.234   0.2522   0.8528  0.6156\n",
       "0.95    0.2944   0.2838   0.8458   0.409"
      ]
     },
     "execution_count": 34,
     "metadata": {},
     "output_type": "execute_result"
    }
   ],
   "source": [
    "Mod_Acc = pd.DataFrame(columns = ['NMF_trial','NMF_test',\n",
    "                                  'RF_trial','RF_test'],index=np.arange(0.1,1,0.05))\n",
    "\n",
    "for test_fracc in Mod_Acc.index:\n",
    "    acc = np.array([0,0,0,0])\n",
    "    for trial in range(0,5):\n",
    "        atr1,ats1,atr2,ats2 = model_comparison(test_fracc,nmf_mod,RF)\n",
    "        acc = acc + np.array([atr1,ats1,atr2,ats2])\n",
    "    acc = acc/5\n",
    "    Mod_Acc.NMF_trial[test_fracc] = acc[0]\n",
    "    Mod_Acc.NMF_test[test_fracc] = acc[1]\n",
    "    Mod_Acc.RF_trial[test_fracc] = acc[2]\n",
    "    Mod_Acc.RF_test[test_fracc] = acc[3]\n",
    "\n",
    "Mod_Acc"
   ]
  },
  {
   "cell_type": "markdown",
   "id": "a2241c81-ad66-4dfe-9498-c184082926cf",
   "metadata": {},
   "source": [
    "We can see that the Random Forest perfoms better then the Non Negative Factorization when there are few data points for training the algorithm.  Other supervised algorithms might tend to overfit as the data has large number of features.\n"
   ]
  },
  {
   "cell_type": "code",
   "execution_count": 39,
   "id": "253c8e6b-6059-4275-b7b7-4ab9353e9e99",
   "metadata": {},
   "outputs": [
    {
     "data": {
      "text/plain": [
       "array([0.8533, 0.8557, 0.8612, 0.8403])"
      ]
     },
     "execution_count": 39,
     "metadata": {},
     "output_type": "execute_result"
    }
   ],
   "source": [
    "test_fracc = 0.1\n",
    "acc = np.array([0,0,0,0])\n",
    "for trial in range(0,10):\n",
    "    atr1,ats1,atr2,ats2 = model_comparison(test_fracc,nmf_mod,RF)\n",
    "    acc = acc + np.array([atr1,ats1,atr2,ats2])\n",
    "acc/10"
   ]
  },
  {
   "cell_type": "markdown",
   "id": "743697a7-254a-4651-88c8-80e92fdc3d51",
   "metadata": {},
   "source": [
    "However in the case above where the test data is only the 10% we have a lot of data points to train and we get a more accurate test result in the matrix factorization than in the Random Forest.  "
   ]
  },
  {
   "cell_type": "markdown",
   "id": "74dcb154-67ec-43fc-8380-a19e465008d0",
   "metadata": {},
   "source": [
    "References.\n",
    "https://en.wikipedia.org/wiki/Tf%E2%80%93idf\n",
    "\n",
    "https://towardsdatascience.com/how-to-turn-text-into-features-478b57632e99\n",
    "\n",
    "https://scikit-learn.org/stable/modules/generated/sklearn.feature_extraction.text.CountVectorizer.html#sklearn.feature_extraction.text.CountVectorizer\n",
    "\n",
    "https://cloud.google.com/blog/products/ai-machine-learning/problem-solving-with-ml-automatic-document-classification\n",
    "\n",
    "https://scikit-learn.org/stable/modules/generated/sklearn.feature_extraction.text.TfidfVectorizer.html\n",
    "\n",
    "https://towardsdatascience.com/text-classification-with-nlp-tf-idf-vs-word2vec-vs-bert-41ff868d1794\n",
    "\n",
    "https://scikit-learn.org/stable/auto_examples/applications/plot_topics_extraction_with_nmf_lda.html#sphx-glr-auto-examples-applications-plot-topics-extraction-with-nmf-lda-py"
   ]
  },
  {
   "cell_type": "code",
   "execution_count": null,
   "id": "f2afb524-5c78-4ada-8403-15e7da88bf1d",
   "metadata": {},
   "outputs": [],
   "source": []
  }
 ],
 "metadata": {
  "kernelspec": {
   "display_name": "Python 3 (ipykernel)",
   "language": "python",
   "name": "python3"
  },
  "language_info": {
   "codemirror_mode": {
    "name": "ipython",
    "version": 3
   },
   "file_extension": ".py",
   "mimetype": "text/x-python",
   "name": "python",
   "nbconvert_exporter": "python",
   "pygments_lexer": "ipython3",
   "version": "3.9.7"
  }
 },
 "nbformat": 4,
 "nbformat_minor": 5
}
